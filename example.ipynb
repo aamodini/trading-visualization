{
 "metadata": {
  "language_info": {
   "codemirror_mode": {
    "name": "ipython",
    "version": 3
   },
   "file_extension": ".py",
   "mimetype": "text/x-python",
   "name": "python",
   "nbconvert_exporter": "python",
   "pygments_lexer": "ipython3",
   "version": "3.8.5"
  },
  "orig_nbformat": 2,
  "kernelspec": {
   "name": "python385jvsc74a57bd0a0faefa9553c5ad51a48a21840dfec01b9cb8511f1ca98f41ca5ec4ae6cac860",
   "display_name": "Python 3.8.5 64-bit ('base': conda)"
  }
 },
 "nbformat": 4,
 "nbformat_minor": 2,
 "cells": [
  {
   "source": [
    "# Microsoft (MSFT) Daily Trading \n",
    "\n",
    "This example goes through the different ways to understanding data you are presented with. We'll go over some summary statistics, and some fun visualizations."
   ],
   "cell_type": "markdown",
   "metadata": {}
  },
  {
   "cell_type": "code",
   "execution_count": 1,
   "metadata": {},
   "outputs": [],
   "source": [
    "import pandas as pd\n",
    "import numpy as np "
   ]
  },
  {
   "cell_type": "code",
   "execution_count": 3,
   "metadata": {},
   "outputs": [
    {
     "output_type": "execute_result",
     "data": {
      "text/plain": [
       "         Date      Open      High       Low     Close  Adj Close      Volume\n",
       "0  1986-03-13  0.088542  0.101562  0.088542  0.097222   0.062378  1031788800\n",
       "1  1986-03-14  0.097222  0.102431  0.097222  0.100694   0.064606   308160000\n",
       "2  1986-03-17  0.100694  0.103299  0.100694  0.102431   0.065720   133171200\n",
       "3  1986-03-18  0.102431  0.103299  0.098958  0.099826   0.064049    67766400\n",
       "4  1986-03-19  0.099826  0.100694  0.097222  0.098090   0.062935    47894400\n",
       "5  1986-03-20  0.098090  0.098090  0.094618  0.095486   0.061264    58435200\n",
       "6  1986-03-21  0.095486  0.097222  0.091146  0.092882   0.059594    59990400\n",
       "7  1986-03-24  0.092882  0.092882  0.089410  0.090278   0.057923    65289600\n",
       "8  1986-03-25  0.090278  0.092014  0.089410  0.092014   0.059037    32083200\n",
       "9  1986-03-26  0.092014  0.095486  0.091146  0.094618   0.060707    22752000"
      ],
      "text/html": "<div>\n<style scoped>\n    .dataframe tbody tr th:only-of-type {\n        vertical-align: middle;\n    }\n\n    .dataframe tbody tr th {\n        vertical-align: top;\n    }\n\n    .dataframe thead th {\n        text-align: right;\n    }\n</style>\n<table border=\"1\" class=\"dataframe\">\n  <thead>\n    <tr style=\"text-align: right;\">\n      <th></th>\n      <th>Date</th>\n      <th>Open</th>\n      <th>High</th>\n      <th>Low</th>\n      <th>Close</th>\n      <th>Adj Close</th>\n      <th>Volume</th>\n    </tr>\n  </thead>\n  <tbody>\n    <tr>\n      <th>0</th>\n      <td>1986-03-13</td>\n      <td>0.088542</td>\n      <td>0.101562</td>\n      <td>0.088542</td>\n      <td>0.097222</td>\n      <td>0.062378</td>\n      <td>1031788800</td>\n    </tr>\n    <tr>\n      <th>1</th>\n      <td>1986-03-14</td>\n      <td>0.097222</td>\n      <td>0.102431</td>\n      <td>0.097222</td>\n      <td>0.100694</td>\n      <td>0.064606</td>\n      <td>308160000</td>\n    </tr>\n    <tr>\n      <th>2</th>\n      <td>1986-03-17</td>\n      <td>0.100694</td>\n      <td>0.103299</td>\n      <td>0.100694</td>\n      <td>0.102431</td>\n      <td>0.065720</td>\n      <td>133171200</td>\n    </tr>\n    <tr>\n      <th>3</th>\n      <td>1986-03-18</td>\n      <td>0.102431</td>\n      <td>0.103299</td>\n      <td>0.098958</td>\n      <td>0.099826</td>\n      <td>0.064049</td>\n      <td>67766400</td>\n    </tr>\n    <tr>\n      <th>4</th>\n      <td>1986-03-19</td>\n      <td>0.099826</td>\n      <td>0.100694</td>\n      <td>0.097222</td>\n      <td>0.098090</td>\n      <td>0.062935</td>\n      <td>47894400</td>\n    </tr>\n    <tr>\n      <th>5</th>\n      <td>1986-03-20</td>\n      <td>0.098090</td>\n      <td>0.098090</td>\n      <td>0.094618</td>\n      <td>0.095486</td>\n      <td>0.061264</td>\n      <td>58435200</td>\n    </tr>\n    <tr>\n      <th>6</th>\n      <td>1986-03-21</td>\n      <td>0.095486</td>\n      <td>0.097222</td>\n      <td>0.091146</td>\n      <td>0.092882</td>\n      <td>0.059594</td>\n      <td>59990400</td>\n    </tr>\n    <tr>\n      <th>7</th>\n      <td>1986-03-24</td>\n      <td>0.092882</td>\n      <td>0.092882</td>\n      <td>0.089410</td>\n      <td>0.090278</td>\n      <td>0.057923</td>\n      <td>65289600</td>\n    </tr>\n    <tr>\n      <th>8</th>\n      <td>1986-03-25</td>\n      <td>0.090278</td>\n      <td>0.092014</td>\n      <td>0.089410</td>\n      <td>0.092014</td>\n      <td>0.059037</td>\n      <td>32083200</td>\n    </tr>\n    <tr>\n      <th>9</th>\n      <td>1986-03-26</td>\n      <td>0.092014</td>\n      <td>0.095486</td>\n      <td>0.091146</td>\n      <td>0.094618</td>\n      <td>0.060707</td>\n      <td>22752000</td>\n    </tr>\n  </tbody>\n</table>\n</div>"
     },
     "metadata": {},
     "execution_count": 3
    }
   ],
   "source": [
    "df = pd.read_pickle(\"MSFT.pkl\")\n",
    "df.head(10)"
   ]
  },
  {
   "source": [
    "## Understanding the dataset\n",
    "- `Date`: Specific trading date \n",
    "- `Open`: The opening price\n",
    "- `High`: The maximum price during the trading hours\n",
    "- `Low`: The lowest price during the trading hours\n",
    "- `Close`: The closing price\n",
    "- `Adj Close`: The adjusted closing price. Adjusted based on a bunch of factors to reflect change in stock value caused by new offerings from the corporation.\n",
    "- `Volume`: The number of shares that changed hands during a given day\n",
    "\n",
    "## Task: How has the MSFT performed over the years?\n",
    "Solution: Plot those point on a graph and just look at the price fluctions. \n",
    "\n",
    "### Steps\n",
    "1. Is the data appropriate for completing the task?\n",
    "2. Cleaning data\n",
    "3. Feature Engineering: are there any additional features you want to add to the dataset to help you make visulaizations easier?\n",
    "4. Visulaizations"
   ],
   "cell_type": "markdown",
   "metadata": {}
  },
  {
   "cell_type": "code",
   "execution_count": null,
   "metadata": {},
   "outputs": [],
   "source": []
  }
 ]
}